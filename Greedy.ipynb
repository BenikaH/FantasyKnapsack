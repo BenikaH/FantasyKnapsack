{
 "metadata": {
  "name": "",
  "signature": "sha256:9c2951f3f0fd6f9a2a3bbd6afd57c613bccb6d55dd8219c6f80245c4e16866d2"
 },
 "nbformat": 3,
 "nbformat_minor": 0,
 "worksheets": [
  {
   "cells": [
    {
     "cell_type": "heading",
     "level": 1,
     "metadata": {},
     "source": [
      "Greedy Algorithm for solving the \"Fantasy Football Knapsack Problem\""
     ]
    },
    {
     "cell_type": "markdown",
     "metadata": {},
     "source": [
      "The Knapsack Problem is a combinatorial optimization problem. Wikipedia (INSERT LINK) can explain it much better than I can. In the \"fantasy football\" variation of the knapsack problem, we are trying to determine an optimal selection of players to maximize our team's expected fantasy points."
     ]
    },
    {
     "cell_type": "code",
     "collapsed": false,
     "input": [
      "import csv"
     ],
     "language": "python",
     "metadata": {},
     "outputs": [],
     "prompt_number": 87
    },
    {
     "cell_type": "code",
     "collapsed": false,
     "input": [
      "class Player():\n",
      "    def __init__(self, position, name, salary, points, value):\n",
      "        self.self = self\n",
      "        self.position = position\n",
      "        self.name = name\n",
      "        self.salary = salary\n",
      "        self.points = points\n",
      "        self.value = value\n",
      "        \n",
      "    def __iter__(self):\n",
      "        return iter(self.list)\n",
      "    \n",
      "    def __str__(self):\n",
      "        return \"{} {} {} {}\".format(self.name,self.position,self.salary, self.points)"
     ],
     "language": "python",
     "metadata": {},
     "outputs": [],
     "prompt_number": 97
    },
    {
     "cell_type": "code",
     "collapsed": false,
     "input": [
      "with open('201505preds.csv', 'r') as data:\n",
      "    reader = csv.reader(data)\n",
      "    reader.next()\n",
      "    players = []\n",
      "    for row in reader:\n",
      "        name = row[0]\n",
      "        position = row[1]\n",
      "        salary = int(row[2])\n",
      "        points = float(row[3])\n",
      "        value = points / salary  \n",
      "        player = Player(position, name, salary, points, value)\n",
      "        players.append(player)"
     ],
     "language": "python",
     "metadata": {},
     "outputs": [],
     "prompt_number": 98
    },
    {
     "cell_type": "code",
     "collapsed": false,
     "input": [
      "def Knapsack(players):\n",
      "    budget = 50000\n",
      "    current_team_salary = 0\n",
      "    constraints = {\n",
      "        'QB':1,\n",
      "        'RB':2,\n",
      "        'WR':3,\n",
      "        'TE':1,\n",
      "        'DST':1,\n",
      "        'FLEX':1\n",
      "        }\n",
      "    \n",
      "    counts = {\n",
      "        'QB':0,\n",
      "        'RB':0,\n",
      "        'WR':0,\n",
      "        'TE':0,\n",
      "        'DST':0,\n",
      "        'FLEX':0\n",
      "        }\n",
      "    \n",
      "    players.sort(key=lambda x: x.value, reverse=True)\n",
      "    team = []\n",
      "    \n",
      "    for player in players:\n",
      "        nam = player.name\n",
      "        pos = player.position\n",
      "        sal = player.salary\n",
      "        pts = player.points\n",
      "        if counts[pos] < constraints[pos] and current_team_salary + sal <= budget:\n",
      "            team.append(player)\n",
      "            counts[pos] = counts[pos] + 1\n",
      "            current_team_salary += sal\n",
      "            continue\n",
      "        if counts['FLEX'] < constraints['FLEX'] and current_team_salary + sal <= budget and pos in ['RB','WR','TE']:\n",
      "            team.append(player)\n",
      "            counts['FLEX'] = counts['FLEX'] + 1\n",
      "            current_team_salary += sal \n",
      "    \n",
      "    players.sort(key=lambda x: x.points, reverse=True)\n",
      "    for player in players:\n",
      "        nam = player.name\n",
      "        pos = player.position\n",
      "        sal = player.salary\n",
      "        pts = player.points\n",
      "        if player not in team:\n",
      "            pos_players = [ x for x in team if x.position == pos]\n",
      "            pos_players.sort(key=lambda x: x.points)\n",
      "            for pos_player in pos_players:\n",
      "                if (current_team_salary + sal - pos_player.salary) <= budget and pts > pos_player.points:\n",
      "                    team[team.index(pos_player)] = player\n",
      "                    current_team_salary = current_team_salary + sal - pos_player.salary\n",
      "                    break\n",
      "    return team"
     ],
     "language": "python",
     "metadata": {},
     "outputs": [],
     "prompt_number": 99
    },
    {
     "cell_type": "code",
     "collapsed": false,
     "input": [
      "team = Knapsack(players)"
     ],
     "language": "python",
     "metadata": {},
     "outputs": [],
     "prompt_number": 100
    },
    {
     "cell_type": "code",
     "collapsed": false,
     "input": [
      "points = 0\n",
      "salary = 0\n",
      "for player in team:\n",
      "    points += player.points\n",
      "    salary += player.salary\n",
      "    print player\n",
      "print points\n",
      "print salary"
     ],
     "language": "python",
     "metadata": {},
     "outputs": [
      {
       "output_type": "stream",
       "stream": "stdout",
       "text": [
        "Detroit Lions DST 2500 10.5032251124\n",
        "Tom Brady QB 7800 21.7578245007\n",
        "Dontrelle Inman WR 3300 8.53032216997\n",
        "Willie Snead WR 3000 7.17468810201\n",
        "Antonio Brown WR 8700 13.3058093677\n",
        "Chris Johnson RB 4400 9.97825559677\n",
        "Julio Jones WR 9200 13.4954787722\n",
        "Le'Veon Bell RB 8500 16.04813638\n",
        "Clay Harbor TE 2500 5.0359334284\n",
        "105.82967343\n",
        "49900\n"
       ]
      }
     ],
     "prompt_number": 101
    },
    {
     "cell_type": "code",
     "collapsed": false,
     "input": [],
     "language": "python",
     "metadata": {},
     "outputs": [],
     "prompt_number": 96
    },
    {
     "cell_type": "code",
     "collapsed": false,
     "input": [],
     "language": "python",
     "metadata": {},
     "outputs": [],
     "prompt_number": 96
    },
    {
     "cell_type": "code",
     "collapsed": false,
     "input": [],
     "language": "python",
     "metadata": {},
     "outputs": []
    }
   ],
   "metadata": {}
  }
 ]
}