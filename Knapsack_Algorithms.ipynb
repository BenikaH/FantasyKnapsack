{
 "metadata": {
  "name": "",
  "signature": "sha256:bfc71f441399f60e14debeb46bffd84ea434fc33a60773113232bfaecb36de45"
 },
 "nbformat": 3,
 "nbformat_minor": 0,
 "worksheets": [
  {
   "cells": [
    {
     "cell_type": "heading",
     "level": 1,
     "metadata": {},
     "source": [
      "Solving the \"Fantasy Football Knapsack Problem\""
     ]
    },
    {
     "cell_type": "markdown",
     "metadata": {},
     "source": [
      "The [Knapsack Problem](https://en.wikipedia.org/wiki/Knapsack_problem) is a combinatorial optimization problem. In the \"fantasy football\" variation of the knapsack problem, we are trying to determine an optimal selection of players to maximize our team's expected fantasy points. There are two major components to playing fantasy football \"quantitatively.\" The first is building statistical models to predict how many fantasy points a player will produce. The second is determining which players to pick, given their predicted point production and their cost. This notebook will show two approaches for tackling the second task."
     ]
    },
    {
     "cell_type": "code",
     "collapsed": false,
     "input": [
      "# We will be reading in a csv file that holds our predictions for each player's point production, as well as their salary.\n",
      "import csv\n",
      "import math\n",
      "from operator import add\n",
      "import random\n",
      "import matplotlib.pyplot as plt\n",
      "%matplotlib inline"
     ],
     "language": "python",
     "metadata": {},
     "outputs": [],
     "prompt_number": 35
    },
    {
     "cell_type": "code",
     "collapsed": false,
     "input": [
      "class Player():\n",
      "    def __init__(self, position, name, salary, points, value):\n",
      "        self.self = self\n",
      "        self.position = position\n",
      "        self.name = name\n",
      "        self.salary = salary\n",
      "        self.points = points\n",
      "        self.value = value\n",
      "        \n",
      "    def __iter__(self):\n",
      "        return iter(self.list)\n",
      "    \n",
      "    def __str__(self):\n",
      "        return \"{} {} {} {}\".format(self.name,self.position,self.salary, self.points)"
     ],
     "language": "python",
     "metadata": {},
     "outputs": [],
     "prompt_number": 17
    },
    {
     "cell_type": "code",
     "collapsed": false,
     "input": [
      "# This csv contains our predictions and salaries for each player. \n",
      "# We parse each row of the csv and convert it into a Player object.\n",
      "with open('DKSalaries.csv', 'r') as data:\n",
      "    reader = csv.reader(data)\n",
      "    reader.next()\n",
      "    players = []\n",
      "    for row in reader:\n",
      "        name = row[1]\n",
      "        position = row[0]\n",
      "        salary = int(row[2])\n",
      "        points = float(row[4])\n",
      "        value = points / salary  \n",
      "        player = Player(position, name, salary, points, value)\n",
      "        players.append(player)"
     ],
     "language": "python",
     "metadata": {},
     "outputs": [],
     "prompt_number": 58
    },
    {
     "cell_type": "heading",
     "level": 2,
     "metadata": {},
     "source": [
      "The Greedy Approach"
     ]
    },
    {
     "cell_type": "markdown",
     "metadata": {},
     "source": [
      "Greedy Algorithms are quite simple. You prioritize a list of objects, and then you select the objects in that order, as long as they don't violate some constraint. For our scenario, the constraints are the overall budget you can spend on your team, and the required number of players in each position. The tricky part in developing a greedy algorithm is determining the correct way to prioritize the objects. \n",
      "\n",
      "One way that seems reasonable to prioritize players is by their expected point production. We would select the available player that we predict to have the best game, as long as we can afford them, and have room in their position group. Let's see what type of team this approach creates:"
     ]
    },
    {
     "cell_type": "code",
     "collapsed": false,
     "input": [
      "def points_knapsack(players):\n",
      "    budget = 50000\n",
      "    current_team_salary = 0\n",
      "    constraints = {\n",
      "        'QB':1,\n",
      "        'RB':2,\n",
      "        'WR':3,\n",
      "        'TE':1,\n",
      "        'DST':1,\n",
      "        'FLEX':1\n",
      "        }\n",
      "    \n",
      "    counts = {\n",
      "        'QB':0,\n",
      "        'RB':0,\n",
      "        'WR':0,\n",
      "        'TE':0,\n",
      "        'DST':0,\n",
      "        'FLEX':0\n",
      "        }\n",
      "    \n",
      "    players.sort(key=lambda x: x.points, reverse=True)\n",
      "    team = []\n",
      "    \n",
      "    for player in players:\n",
      "        nam = player.name\n",
      "        pos = player.position\n",
      "        sal = player.salary\n",
      "        pts = player.points\n",
      "        if counts[pos] < constraints[pos] and current_team_salary + sal <= budget:\n",
      "            team.append(player)\n",
      "            counts[pos] = counts[pos] + 1\n",
      "            current_team_salary += sal\n",
      "            continue\n",
      "        if counts['FLEX'] < constraints['FLEX'] and current_team_salary + sal <= budget and pos in ['RB','WR','TE']:\n",
      "            team.append(player)\n",
      "            counts['FLEX'] = counts['FLEX'] + 1\n",
      "            current_team_salary += sal \n",
      "\n",
      "    return team"
     ],
     "language": "python",
     "metadata": {},
     "outputs": [],
     "prompt_number": 59
    },
    {
     "cell_type": "code",
     "collapsed": false,
     "input": [
      "team = points_knapsack(players)\n",
      "points = 0\n",
      "salary = 0\n",
      "for player in team:\n",
      "    points += player.points\n",
      "    salary += player.salary\n",
      "    print player\n",
      "print \"\\nPoints: {}\".format(points)\n",
      "print \"Salary: {}\".format(salary)"
     ],
     "language": "python",
     "metadata": {},
     "outputs": [
      {
       "output_type": "stream",
       "stream": "stdout",
       "text": [
        "Julio Jones WR 9200 29.7\n",
        "Le'Veon Bell RB 8500 28.6\n",
        "Tom Brady QB 7800 28.527\n",
        "Larry Fitzgerald WR 6800 27.05\n",
        "Devonta Freeman RB 6300 26.7\n",
        "Antonio Brown WR 8700 26.2\n",
        "Lions  DST 2500 10.75\n",
        "\n",
        "Points: 177.527\n",
        "Salary: 49800\n"
       ]
      }
     ],
     "prompt_number": 60
    },
    {
     "cell_type": "heading",
     "level": 3,
     "metadata": {},
     "source": [
      "Oops."
     ]
    },
    {
     "cell_type": "markdown",
     "metadata": {},
     "source": [
      "There's a slight problem here: **we didn't end up with enough players on our team.** A valid team has 9 players, ours only has 7. After picking 7 players, we were at our budget of $50,000. There are ways around this: rather than adding a player as long as he doesn't put us over the budget, we could make sure that after adding him we still had the budget left to fill out our team with the cheapest possible players at each position.\n",
      "\n",
      "This approach would leave us with a very \"top-heavy\" team: a few really good players, and a few \"bottom of the barrel\" players. This isn't necessarily a bad thing, but let's try a different approach."
     ]
    },
    {
     "cell_type": "heading",
     "level": 3,
     "metadata": {},
     "source": [
      "Prioritizing by Points per Dollar"
     ]
    },
    {
     "cell_type": "markdown",
     "metadata": {},
     "source": [
      "Rather than prioritizing by expected point production, let's try prioritizing by **expected points per dollar of cost.**"
     ]
    },
    {
     "cell_type": "code",
     "collapsed": false,
     "input": [
      "def value_knapsack(players):\n",
      "    budget = 50000\n",
      "    current_team_salary = 0\n",
      "    constraints = {\n",
      "        'QB':1,\n",
      "        'RB':2,\n",
      "        'WR':3,\n",
      "        'TE':1,\n",
      "        'DST':1,\n",
      "        'FLEX':1\n",
      "        }\n",
      "    \n",
      "    counts = {\n",
      "        'QB':0,\n",
      "        'RB':0,\n",
      "        'WR':0,\n",
      "        'TE':0,\n",
      "        'DST':0,\n",
      "        'FLEX':0\n",
      "        }\n",
      "    \n",
      "    players.sort(key=lambda x: x.value, reverse=True)\n",
      "    team = []\n",
      "    \n",
      "    for player in players:\n",
      "        nam = player.name\n",
      "        pos = player.position\n",
      "        sal = player.salary\n",
      "        pts = player.points\n",
      "        if counts[pos] < constraints[pos] and current_team_salary + sal <= budget:\n",
      "            team.append(player)\n",
      "            counts[pos] = counts[pos] + 1\n",
      "            current_team_salary += sal\n",
      "            continue\n",
      "        if counts['FLEX'] < constraints['FLEX'] and current_team_salary + sal <= budget and pos in ['RB','WR','TE']:\n",
      "            team.append(player)\n",
      "            counts['FLEX'] = counts['FLEX'] + 1\n",
      "            current_team_salary += sal \n",
      "\n",
      "    return team"
     ],
     "language": "python",
     "metadata": {},
     "outputs": [],
     "prompt_number": 61
    },
    {
     "cell_type": "code",
     "collapsed": false,
     "input": [
      "team = value_knapsack(players)\n",
      "points = 0\n",
      "salary = 0\n",
      "for player in team:\n",
      "    points += player.points\n",
      "    salary += player.salary\n",
      "    print player\n",
      "print \"\\nPoints: {}\".format(points)\n",
      "print \"Salary: {}\".format(salary)"
     ],
     "language": "python",
     "metadata": {},
     "outputs": [
      {
       "output_type": "stream",
       "stream": "stdout",
       "text": [
        "Austin Seferian-Jenkins TE 3600 17.95\n",
        "Ladarius Green TE 3200 14.467\n",
        "Travis Benjamin WR 4500 20.2\n",
        "Broncos  DST 3600 16.0\n",
        "Andy Dalton QB 5700 24.295\n",
        "Devonta Freeman RB 6300 26.7\n",
        "Keshawn Martin WR 3000 12.3\n",
        "Dion Lewis RB 4800 19.5\n",
        "Larry Fitzgerald WR 6800 27.05\n",
        "\n",
        "Points: 178.462\n",
        "Salary: 41500\n"
       ]
      }
     ],
     "prompt_number": 62
    },
    {
     "cell_type": "heading",
     "level": 3,
     "metadata": {},
     "source": [
      "Hmm."
     ]
    },
    {
     "cell_type": "markdown",
     "metadata": {},
     "source": [
      "We got a valid team, but it doesn't seem quite \"optimal.\" We ended up using only \\$41,500 of our \\$50,000 budget. We optimized for \"value\" but that's not exactly what we want, we want to optimize for **points.**"
     ]
    },
    {
     "cell_type": "heading",
     "level": 3,
     "metadata": {},
     "source": [
      "Improving on Points per Dollar"
     ]
    },
    {
     "cell_type": "markdown",
     "metadata": {},
     "source": [
      "This approach seems promising though; we have a team full of under-valued players. We can try to replace some of the under-valued players that aren't predicted to get many points with some players with worse points per dollar ratios, but more expected points."
     ]
    },
    {
     "cell_type": "code",
     "collapsed": false,
     "input": [
      "def improved_knapsack(players):\n",
      "    budget = 50000\n",
      "    current_team_salary = 0\n",
      "    constraints = {\n",
      "        'QB':1,\n",
      "        'RB':2,\n",
      "        'WR':3,\n",
      "        'TE':1,\n",
      "        'DST':1,\n",
      "        'FLEX':1\n",
      "        }\n",
      "    \n",
      "    counts = {\n",
      "        'QB':0,\n",
      "        'RB':0,\n",
      "        'WR':0,\n",
      "        'TE':0,\n",
      "        'DST':0,\n",
      "        'FLEX':0\n",
      "        }\n",
      "    \n",
      "    players.sort(key=lambda x: x.value, reverse=True)\n",
      "    team = []\n",
      "    \n",
      "    for player in players:\n",
      "        nam = player.name\n",
      "        pos = player.position\n",
      "        sal = player.salary\n",
      "        pts = player.points\n",
      "        if counts[pos] < constraints[pos] and current_team_salary + sal <= budget:\n",
      "            team.append(player)\n",
      "            counts[pos] = counts[pos] + 1\n",
      "            current_team_salary += sal\n",
      "            continue\n",
      "        if counts['FLEX'] < constraints['FLEX'] and current_team_salary + sal <= budget and pos in ['RB','WR','TE']:\n",
      "            team.append(player)\n",
      "            counts['FLEX'] = counts['FLEX'] + 1\n",
      "            current_team_salary += sal \n",
      "    \n",
      "    players.sort(key=lambda x: x.points, reverse=True)\n",
      "    for player in players:\n",
      "        nam = player.name\n",
      "        pos = player.position\n",
      "        sal = player.salary\n",
      "        pts = player.points\n",
      "        if player not in team:\n",
      "            pos_players = [ x for x in team if x.position == pos]\n",
      "            pos_players.sort(key=lambda x: x.points)\n",
      "            for pos_player in pos_players:\n",
      "                if (current_team_salary + sal - pos_player.salary) <= budget and pts > pos_player.points:\n",
      "                    team[team.index(pos_player)] = player\n",
      "                    current_team_salary = current_team_salary + sal - pos_player.salary\n",
      "                    break\n",
      "    return team"
     ],
     "language": "python",
     "metadata": {},
     "outputs": [],
     "prompt_number": 63
    },
    {
     "cell_type": "code",
     "collapsed": false,
     "input": [
      "team = improved_knapsack(players)\n",
      "points = 0\n",
      "salary = 0\n",
      "for player in team:\n",
      "    points += player.points\n",
      "    salary += player.salary\n",
      "    print player\n",
      "print \"\\nPoints: {}\".format(points)\n",
      "print \"Salary: {}\".format(salary)"
     ],
     "language": "python",
     "metadata": {},
     "outputs": [
      {
       "output_type": "stream",
       "stream": "stdout",
       "text": [
        "Austin Seferian-Jenkins TE 3600 17.95\n",
        "Ladarius Green TE 3200 14.467\n",
        "Travis Benjamin WR 4500 20.2\n",
        "Broncos  DST 3600 16.0\n",
        "Andy Dalton QB 5700 24.295\n",
        "Le'Veon Bell RB 8500 28.6\n",
        "Julio Jones WR 9200 29.7\n",
        "Dion Lewis RB 4800 19.5\n",
        "Larry Fitzgerald WR 6800 27.05\n",
        "\n",
        "Points: 197.762\n",
        "Salary: 49900\n"
       ]
      }
     ],
     "prompt_number": 64
    },
    {
     "cell_type": "heading",
     "level": 3,
     "metadata": {},
     "source": [
      "Looks much better."
     ]
    },
    {
     "cell_type": "markdown",
     "metadata": {},
     "source": [
      "We were able to swap some lower-performing players out with more expensive and higher-producing ones, while still staying under the budget. Out goes Mark Sanchez, in comes Tom Brady. **We improved our total expected point output by about 20 points.**"
     ]
    },
    {
     "cell_type": "heading",
     "level": 3,
     "metadata": {},
     "source": [
      "But wait..."
     ]
    },
    {
     "cell_type": "markdown",
     "metadata": {},
     "source": [
      "Can't we just enumerate all possible teams, and find the optimal team that way? Technically yes, realistically no. \n",
      "\n",
      "Simplifying the problem a bit, we can approximate the number of possible teams as '450 choose 9'\n",
      "That comes out to **1923912000000000000000000 possibilities**\n",
      "\n",
      "The Knapsack optimization problem is [NP-Hard](https://en.wikipedia.org/wiki/NP-completeness), meaning \"there is no known polynomial algorithm which can tell, given a solution, whether it is optimal\" (unless [P=NP](https://en.wikipedia.org/wiki/P_versus_NP_problem)).\n",
      "\n",
      "The greedy approach we've taken is an approximation algorithm. We are not claiming to find the perfectly optimal team, just our best approximation. There are other approaches for approximating the optimal team, including [Dynamic Programming](https://en.wikipedia.org/wiki/Dynamic_programming) and [Genetic Algorithms](https://en.wikipedia.org/wiki/Genetic_algorithm)."
     ]
    },
    {
     "cell_type": "heading",
     "level": 4,
     "metadata": {},
     "source": [
      "Feedback"
     ]
    },
    {
     "cell_type": "markdown",
     "metadata": {},
     "source": [
      "I appreciate any and all feedback on the code, explanations, layout, etc. \n",
      "I can be reached at [sambrady3@gmail.com](mailto:sambrady3@gmail.com)"
     ]
    }
   ],
   "metadata": {}
  }
 ]
}