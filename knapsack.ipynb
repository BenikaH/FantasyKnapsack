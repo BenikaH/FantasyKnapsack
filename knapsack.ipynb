{
 "cells": [
  {
   "cell_type": "markdown",
   "metadata": {},
   "source": [
    "# Solving the \"Fantasy Football Knapsack Problem\""
   ]
  },
  {
   "cell_type": "markdown",
   "metadata": {},
   "source": [
    "The [Knapsack Problem](https://en.wikipedia.org/wiki/Knapsack_problem) is a combinatorial optimization problem. In the \"fantasy football\" variation of the knapsack problem, we are trying to determine an optimal selection of players to maximize our team's expected fantasy points. There are two major components to playing fantasy football \"quantitatively.\" The first is building statistical models to predict how many fantasy points a player will produce. The second is determining which players to pick, given their predicted point production and their cost. This notebook will show two approaches for tackling the second task."
   ]
  },
  {
   "cell_type": "code",
   "execution_count": 3,
   "metadata": {
    "collapsed": false
   },
   "outputs": [],
   "source": [
    "import csv"
   ]
  },
  {
   "cell_type": "code",
   "execution_count": 8,
   "metadata": {
    "collapsed": false
   },
   "outputs": [],
   "source": [
    "class Player():\n",
    "    def __init__(self, position, name, salary, points, value):\n",
    "        self.self = self\n",
    "        self.position = position\n",
    "        self.name = name\n",
    "        self.salary = salary\n",
    "        self.points = points\n",
    "        self.value = value\n",
    "        \n",
    "    def __iter__(self):\n",
    "        return iter(self.list)\n",
    "    \n",
    "    def __str__(self):\n",
    "        return \"{} {} {} {}\".format(self.name,self.position,self.salary, self.points)"
   ]
  },
  {
   "cell_type": "code",
   "execution_count": 9,
   "metadata": {
    "collapsed": false
   },
   "outputs": [],
   "source": [
    "# This csv contains our predictions and salaries for each player. \n",
    "# We parse each row of the csv and convert it into a Player object.\n",
    "with open('DKSalaries.csv', 'r') as data:\n",
    "    reader = csv.reader(data)\n",
    "    reader.next()\n",
    "    players = []\n",
    "    for row in reader:\n",
    "        name = row[1]\n",
    "        position = row[0]\n",
    "        salary = int(row[2])\n",
    "        points = float(row[4])\n",
    "        value = points / salary  \n",
    "        player = Player(position, name, salary, points, value)\n",
    "        players.append(player)"
   ]
  },
  {
   "cell_type": "markdown",
   "metadata": {},
   "source": [
    "## The Greedy Approach"
   ]
  },
  {
   "cell_type": "markdown",
   "metadata": {},
   "source": [
    "Greedy Algorithms are quite simple. You prioritize a list of objects, and then you select the objects in that order, as long as they don't violate some constraint. For our scenario, the constraints are the overall budget you can spend on your team, and the required number of players in each position. The tricky part in developing a greedy algorithm is determining the correct way to prioritize the objects. \n",
    "\n",
    "One way that seems reasonable to prioritize players is by their expected point production. We would select the available player that we predict to have the best game, as long as we can afford them, and have room in their position group. Let's see what type of team this approach creates:"
   ]
  },
  {
   "cell_type": "code",
   "execution_count": 10,
   "metadata": {
    "collapsed": false
   },
   "outputs": [],
   "source": [
    "def points_knapsack(players):\n",
    "    budget = 50000\n",
    "    current_team_salary = 0\n",
    "    constraints = {\n",
    "        'QB':1,\n",
    "        'RB':2,\n",
    "        'WR':3,\n",
    "        'TE':1,\n",
    "        'DST':1,\n",
    "        'FLEX':1\n",
    "        }\n",
    "    \n",
    "    counts = {\n",
    "        'QB':0,\n",
    "        'RB':0,\n",
    "        'WR':0,\n",
    "        'TE':0,\n",
    "        'DST':0,\n",
    "        'FLEX':0\n",
    "        }\n",
    "    \n",
    "    players.sort(key=lambda x: x.points, reverse=True)\n",
    "    team = []\n",
    "    \n",
    "    for player in players:\n",
    "        nam = player.name\n",
    "        pos = player.position\n",
    "        sal = player.salary\n",
    "        pts = player.points\n",
    "        if counts[pos] < constraints[pos] and current_team_salary + sal <= budget:\n",
    "            team.append(player)\n",
    "            counts[pos] = counts[pos] + 1\n",
    "            current_team_salary += sal\n",
    "            continue\n",
    "        if counts['FLEX'] < constraints['FLEX'] and current_team_salary + sal <= budget and pos in ['RB','WR','TE']:\n",
    "            team.append(player)\n",
    "            counts['FLEX'] = counts['FLEX'] + 1\n",
    "            current_team_salary += sal \n",
    "\n",
    "    return team"
   ]
  },
  {
   "cell_type": "code",
   "execution_count": 11,
   "metadata": {
    "collapsed": false
   },
   "outputs": [
    {
     "name": "stdout",
     "output_type": "stream",
     "text": [
      "Julio Jones WR 9200 29.7\n",
      "Le'Veon Bell RB 8500 28.6\n",
      "Tom Brady QB 7800 28.527\n",
      "Larry Fitzgerald WR 6800 27.05\n",
      "Devonta Freeman RB 6300 26.7\n",
      "Antonio Brown WR 8700 26.2\n",
      "Lions  DST 2500 10.75\n",
      "\n",
      "Points: 177.527\n",
      "Salary: 49800\n"
     ]
    }
   ],
   "source": [
    "team = points_knapsack(players)\n",
    "points = 0\n",
    "salary = 0\n",
    "for player in team:\n",
    "    points += player.points\n",
    "    salary += player.salary\n",
    "    print player\n",
    "print \"\\nPoints: {}\".format(points)\n",
    "print \"Salary: {}\".format(salary)"
   ]
  },
  {
   "cell_type": "markdown",
   "metadata": {},
   "source": [
    "### Oops."
   ]
  },
  {
   "cell_type": "markdown",
   "metadata": {},
   "source": [
    "There's a slight problem here: **we didn't end up with enough players on our team.** A valid team has 9 players, ours only has 7. After picking 7 players, we have used \\$49,800 of our \\$50,000 budget. We don't have enough money left to afford even the cheapest available player, and we still need *two* more players. There are ways around this: rather than adding a player as long as he doesn't put us over the budget, we could make sure that after adding him we still had the budget left to fill out our team with the cheapest possible players at each position.\n",
    "\n",
    "This approach would leave us with a very \"top-heavy\" team: a few really good players, and a few \"bottom of the barrel\" players. This isn't necessarily a bad thing, but let's try a different approach."
   ]
  },
  {
   "cell_type": "markdown",
   "metadata": {},
   "source": [
    "### Prioritizing by Points per Dollar"
   ]
  },
  {
   "cell_type": "markdown",
   "metadata": {},
   "source": [
    "Rather than prioritizing by expected point production, let's try prioritizing by **expected points per dollar of cost.**"
   ]
  },
  {
   "cell_type": "code",
   "execution_count": 12,
   "metadata": {
    "collapsed": false
   },
   "outputs": [],
   "source": [
    "def value_knapsack(players):\n",
    "    budget = 50000\n",
    "    current_team_salary = 0\n",
    "    constraints = {\n",
    "        'QB':1,\n",
    "        'RB':2,\n",
    "        'WR':3,\n",
    "        'TE':1,\n",
    "        'DST':1,\n",
    "        'FLEX':1\n",
    "        }\n",
    "    \n",
    "    counts = {\n",
    "        'QB':0,\n",
    "        'RB':0,\n",
    "        'WR':0,\n",
    "        'TE':0,\n",
    "        'DST':0,\n",
    "        'FLEX':0\n",
    "        }\n",
    "    \n",
    "    players.sort(key=lambda x: x.value, reverse=True)\n",
    "    team = []\n",
    "    \n",
    "    for player in players:\n",
    "        nam = player.name\n",
    "        pos = player.position\n",
    "        sal = player.salary\n",
    "        pts = player.points\n",
    "        if counts[pos] < constraints[pos] and current_team_salary + sal <= budget:\n",
    "            team.append(player)\n",
    "            counts[pos] = counts[pos] + 1\n",
    "            current_team_salary += sal\n",
    "            continue\n",
    "        if counts['FLEX'] < constraints['FLEX'] and current_team_salary + sal <= budget and pos in ['RB','WR','TE']:\n",
    "            team.append(player)\n",
    "            counts['FLEX'] = counts['FLEX'] + 1\n",
    "            current_team_salary += sal \n",
    "\n",
    "    return team"
   ]
  },
  {
   "cell_type": "code",
   "execution_count": 13,
   "metadata": {
    "collapsed": false
   },
   "outputs": [
    {
     "name": "stdout",
     "output_type": "stream",
     "text": [
      "Austin Seferian-Jenkins TE 3600 17.95\n",
      "Ladarius Green TE 3200 14.467\n",
      "Travis Benjamin WR 4500 20.2\n",
      "Broncos  DST 3600 16.0\n",
      "Andy Dalton QB 5700 24.295\n",
      "Devonta Freeman RB 6300 26.7\n",
      "Keshawn Martin WR 3000 12.3\n",
      "Dion Lewis RB 4800 19.5\n",
      "Larry Fitzgerald WR 6800 27.05\n",
      "\n",
      "Points: 178.462\n",
      "Salary: 41500\n"
     ]
    }
   ],
   "source": [
    "team = value_knapsack(players)\n",
    "points = 0\n",
    "salary = 0\n",
    "for player in team:\n",
    "    points += player.points\n",
    "    salary += player.salary\n",
    "    print player\n",
    "print \"\\nPoints: {}\".format(points)\n",
    "print \"Salary: {}\".format(salary)"
   ]
  },
  {
   "cell_type": "markdown",
   "metadata": {},
   "source": [
    "### Hmm."
   ]
  },
  {
   "cell_type": "markdown",
   "metadata": {},
   "source": [
    "We got a valid team, but it doesn't seem quite \"optimal.\" We ended up using only \\$41,500 of our \\$50,000 budget. We optimized for \"value\" but that's not exactly what we want, we want to optimize for **points.**"
   ]
  },
  {
   "cell_type": "markdown",
   "metadata": {},
   "source": [
    "### Improving on Points per Dollar"
   ]
  },
  {
   "cell_type": "markdown",
   "metadata": {},
   "source": [
    "This approach seems promising though; we have a team full of under-valued players. We can try to replace some of the under-valued players that aren't predicted to get many points with some players with worse points per dollar ratios, but more expected points."
   ]
  },
  {
   "cell_type": "code",
   "execution_count": 14,
   "metadata": {
    "collapsed": false
   },
   "outputs": [],
   "source": [
    "def improved_knapsack(players):\n",
    "    budget = 50000\n",
    "    current_team_salary = 0\n",
    "    constraints = {\n",
    "        'QB':1,\n",
    "        'RB':2,\n",
    "        'WR':3,\n",
    "        'TE':1,\n",
    "        'DST':1,\n",
    "        'FLEX':1\n",
    "        }\n",
    "    \n",
    "    counts = {\n",
    "        'QB':0,\n",
    "        'RB':0,\n",
    "        'WR':0,\n",
    "        'TE':0,\n",
    "        'DST':0,\n",
    "        'FLEX':0\n",
    "        }\n",
    "    \n",
    "    players.sort(key=lambda x: x.value, reverse=True)\n",
    "    team = []\n",
    "    \n",
    "    for player in players:\n",
    "        nam = player.name\n",
    "        pos = player.position\n",
    "        sal = player.salary\n",
    "        pts = player.points\n",
    "        if counts[pos] < constraints[pos] and current_team_salary + sal <= budget:\n",
    "            team.append(player)\n",
    "            counts[pos] = counts[pos] + 1\n",
    "            current_team_salary += sal\n",
    "            continue\n",
    "        if counts['FLEX'] < constraints['FLEX'] and current_team_salary + sal <= budget and pos in ['RB','WR','TE']:\n",
    "            team.append(player)\n",
    "            counts['FLEX'] = counts['FLEX'] + 1\n",
    "            current_team_salary += sal \n",
    "    \n",
    "    players.sort(key=lambda x: x.points, reverse=True)\n",
    "    for player in players:\n",
    "        nam = player.name\n",
    "        pos = player.position\n",
    "        sal = player.salary\n",
    "        pts = player.points\n",
    "        if player not in team:\n",
    "            pos_players = [ x for x in team if x.position == pos]\n",
    "            pos_players.sort(key=lambda x: x.points)\n",
    "            for pos_player in pos_players:\n",
    "                if (current_team_salary + sal - pos_player.salary) <= budget and pts > pos_player.points:\n",
    "                    team[team.index(pos_player)] = player\n",
    "                    current_team_salary = current_team_salary + sal - pos_player.salary\n",
    "                    break\n",
    "    return team"
   ]
  },
  {
   "cell_type": "code",
   "execution_count": 15,
   "metadata": {
    "collapsed": false
   },
   "outputs": [
    {
     "name": "stdout",
     "output_type": "stream",
     "text": [
      "Austin Seferian-Jenkins TE 3600 17.95\n",
      "Ladarius Green TE 3200 14.467\n",
      "Travis Benjamin WR 4500 20.2\n",
      "Broncos  DST 3600 16.0\n",
      "Andy Dalton QB 5700 24.295\n",
      "Le'Veon Bell RB 8500 28.6\n",
      "Julio Jones WR 9200 29.7\n",
      "Dion Lewis RB 4800 19.5\n",
      "Larry Fitzgerald WR 6800 27.05\n",
      "\n",
      "Points: 197.762\n",
      "Salary: 49900\n"
     ]
    }
   ],
   "source": [
    "team = improved_knapsack(players)\n",
    "points = 0\n",
    "salary = 0\n",
    "for player in team:\n",
    "    points += player.points\n",
    "    salary += player.salary\n",
    "    print player\n",
    "print \"\\nPoints: {}\".format(points)\n",
    "print \"Salary: {}\".format(salary)"
   ]
  },
  {
   "cell_type": "markdown",
   "metadata": {},
   "source": [
    "### Looks much better."
   ]
  },
  {
   "cell_type": "markdown",
   "metadata": {},
   "source": [
    "We were able to swap some lower-performing players out with more expensive and higher-producing ones, while still staying under the budget. Out goes Mark Sanchez, in comes Tom Brady. **We improved our total expected point output by about 20 points.**"
   ]
  },
  {
   "cell_type": "markdown",
   "metadata": {},
   "source": [
    "### But wait..."
   ]
  },
  {
   "cell_type": "markdown",
   "metadata": {},
   "source": [
    "Can't we just enumerate all possible teams, and find the optimal team that way? Technically yes, realistically no. \n",
    "\n",
    "Simplifying the problem a bit, we can approximate the number of possible teams as '450 choose 9'\n",
    "That comes out to **1923912000000000000000000 possibilities**\n",
    "\n",
    "The Knapsack optimization problem is [NP-Hard](https://en.wikipedia.org/wiki/NP-completeness), meaning \"there is no known polynomial algorithm which can tell, given a solution, whether it is optimal\" (unless [P=NP](https://en.wikipedia.org/wiki/P_versus_NP_problem)).\n",
    "\n",
    "The greedy approach we've taken is an approximation algorithm. We are not claiming to find the perfectly optimal team, just our best approximation. Let's take a look at another method."
   ]
  },
  {
   "cell_type": "markdown",
   "metadata": {},
   "source": [
    "## Genetic Algorithm"
   ]
  },
  {
   "cell_type": "markdown",
   "metadata": {},
   "source": [
    "[Genetic algorithms](https://en.wikipedia.org/wiki/Genetic_algorithm) are often effective for optimization problems. Genetic algorithms mimic natural selection, and \"generate solutions to optimization problems using techniques inspired by natural evolution, such as inheritance, mutation, selection, and crossover.\"\n",
    "\n",
    "There exist several Python libraries that help with implementing genetic algorithms ([DEAP](http://deap.readthedocs.org/en/master/), [PyEvolve](http://pyevolve.sourceforge.net/)) but we're going to implement one ourselves."
   ]
  },
  {
   "cell_type": "code",
   "execution_count": 16,
   "metadata": {
    "collapsed": true
   },
   "outputs": [],
   "source": [
    "import random\n",
    "import math\n",
    "from operator import add\n",
    "import matplotlib.pyplot as plt\n",
    "%matplotlib inline"
   ]
  },
  {
   "cell_type": "markdown",
   "metadata": {},
   "source": [
    "Genetic algorithms start by generating a population of random individuals. In this context, an individual is actually a team, and a population is a collection of many teams."
   ]
  },
  {
   "cell_type": "code",
   "execution_count": 17,
   "metadata": {
    "collapsed": true
   },
   "outputs": [],
   "source": [
    "def CreateRandomTeam():    \n",
    "    team = {\n",
    "    'qb' : random.sample(qbs,1),\n",
    "    'rb' : random.sample(rbs,2),\n",
    "    'wr' : random.sample(wrs,3),\n",
    "    'te' : random.sample(tes,1),\n",
    "    'flex' : random.sample(flexs,1),\n",
    "    'dst' : random.sample(dsts,1)\n",
    "    }\n",
    "    \n",
    "    while True:\n",
    "        flexer = team['flex'][0]\n",
    "        if flexer in team['rb'] or flexer in team['wr'] or flexer in team['te']:\n",
    "            team['flex'] = random.sample(flexs,1)\n",
    "        else:\n",
    "            break\n",
    "    \n",
    "    return team"
   ]
  },
  {
   "cell_type": "code",
   "execution_count": 18,
   "metadata": {
    "collapsed": true
   },
   "outputs": [],
   "source": [
    "def GetTeamPointTotal(team):\n",
    "    total_points = 0\n",
    "    for pos, players in team.iteritems():\n",
    "        for player in players:\n",
    "            total_points += player.points\n",
    "    return total_points\n",
    "\n",
    "def GetTeamSalary(team):\n",
    "    total_salary = 0\n",
    "    for pos, players in team.iteritems():\n",
    "        for player in players:\n",
    "            total_salary += player.salary\n",
    "    return total_salary\n",
    "\n",
    "def printTeam(team):\n",
    "    print team['qb'][0]\n",
    "    print team['rb'][0]\n",
    "    print team['rb'][1]\n",
    "    print team['wr'][0]\n",
    "    print team['wr'][1]\n",
    "    print team['wr'][2]\n",
    "    print team['te'][0]\n",
    "    print team['flex'][0]\n",
    "    print team['dst'][0]"
   ]
  },
  {
   "cell_type": "code",
   "execution_count": 19,
   "metadata": {
    "collapsed": true
   },
   "outputs": [],
   "source": [
    "def CreatePopulation(count):\n",
    "    return [CreateRandomTeam() for i in range(0,count)]"
   ]
  },
  {
   "cell_type": "code",
   "execution_count": 20,
   "metadata": {
    "collapsed": false
   },
   "outputs": [],
   "source": [
    "qbs = [player for player in players if player.position == 'QB']\n",
    "rbs = [player for player in players if player.position == 'RB']\n",
    "wrs = [player for player in players if player.position == 'WR']\n",
    "tes = [player for player in players if player.position == 'TE']\n",
    "dsts = [player for player in players if player.position == 'DST']\n",
    "flexs = [player for player in players if player.position != 'DST' and player.position != 'QB']"
   ]
  },
  {
   "cell_type": "markdown",
   "metadata": {},
   "source": [
    "### Fitness\n",
    "In the greedy approach, the only part that really required some creativity from us was determining how to prioritize the players. In the genetic approach, we must come up with our [Fitness function](https://en.wikipedia.org/wiki/Fitness_function). Genetic algorithms follow the \"only the strong survive\" philosophy. Our fitness function tells the algorithm which teams are strong. Our fitness function is very simple: return the number of points you expect a team to produce (the higher the better), *unless* that team is over budget, then return zero."
   ]
  },
  {
   "cell_type": "code",
   "execution_count": 21,
   "metadata": {
    "collapsed": true
   },
   "outputs": [],
   "source": [
    "def fitness(team):\n",
    "    points = GetTeamPointTotal(team)\n",
    "    salary = GetTeamSalary(team)\n",
    "    values = team.values()\n",
    "    if salary > 50000:\n",
    "        return 0\n",
    "    return points"
   ]
  },
  {
   "cell_type": "code",
   "execution_count": 22,
   "metadata": {
    "collapsed": true
   },
   "outputs": [],
   "source": [
    "def grade(pop):\n",
    "    'Find average fitness for a population.'\n",
    "    summed = reduce(add, (fitness(team) for team in pop))\n",
    "    return summed / (len(pop) * 1.0)"
   ]
  },
  {
   "cell_type": "code",
   "execution_count": 23,
   "metadata": {
    "collapsed": true
   },
   "outputs": [],
   "source": [
    "def listToTeam(players):\n",
    "    return {\n",
    "    'qb' : [players[0]],\n",
    "    'rb' : players[1:3],\n",
    "    'wr' : players[3:6],\n",
    "    'te' : [players[6]],\n",
    "    'flex' : [players[7]],\n",
    "    'dst' : [players[8]]\n",
    "}"
   ]
  },
  {
   "cell_type": "markdown",
   "metadata": {},
   "source": [
    "### Breeding\n",
    "Another important aspect of genetic algorithms is breeding. Once we can determine which teams are strongest, we \"breed\" them together to create new teams. This process is also called Cross-Over. "
   ]
  },
  {
   "cell_type": "code",
   "execution_count": 24,
   "metadata": {
    "collapsed": true
   },
   "outputs": [],
   "source": [
    "def breed(mother, father):\n",
    "    positions = ['qb','rb','wr','te','flex','dst']\n",
    "    \n",
    "    mother_lists = [mother['qb'] + mother['rb'] + mother['wr'] + mother['te'] + mother['flex'] + mother['dst']]\n",
    "    mother_list = [item for sublist in mother_lists for item in sublist]\n",
    "    father_lists = [father['qb'] + father['rb'] + father['wr'] + father['te'] + father['flex'] + father['dst']]\n",
    "    father_list = [item for sublist in father_lists for item in sublist]\n",
    "\n",
    "    index = random.choice([1,3,6,7,8])\n",
    "    child1 = listToTeam(mother_list[0:index] + father_list[index:])\n",
    "    child2 = listToTeam(father_list[0:index] + mother_list[index:])\n",
    "    \n",
    "    while True:\n",
    "        flexer = child1['flex'][0]\n",
    "        if flexer in child1['rb'] or flexer in child1['wr'] or flexer in child1['te']:\n",
    "            child1['flex'] = random.sample(flexs,1)\n",
    "        else:\n",
    "            break\n",
    "            \n",
    "    while True:\n",
    "        flexer = child2['flex'][0]\n",
    "        if flexer in child2['rb'] or flexer in child2['wr'] or flexer in child2['te']:\n",
    "            child2['flex'] = random.sample(flexs,1)\n",
    "        else:\n",
    "            break\n",
    "        \n",
    "    return[child1, child2]  "
   ]
  },
  {
   "cell_type": "markdown",
   "metadata": {},
   "source": [
    "### Mutation\n",
    "Mutation is used to randomly shake up some teams. This prevents us from getting stuck at a local maximum."
   ]
  },
  {
   "cell_type": "code",
   "execution_count": 25,
   "metadata": {
    "collapsed": true
   },
   "outputs": [],
   "source": [
    "def mutate(team):\n",
    "    positions = ['qb','rb','wr','te','flex','dst']\n",
    "      \n",
    "    random_pos = random.choice(positions)\n",
    "    if random_pos == 'qb':\n",
    "        team['qb'][0] = random.choice(qbs)\n",
    "    if random_pos == 'rb':\n",
    "        team['rb'] = random.sample(rbs,2)\n",
    "    if random_pos == 'wr':\n",
    "        team['wr'] = random.sample(wrs,3)\n",
    "    if random_pos == 'te':\n",
    "        team['te'][0] = random.choice(tes)\n",
    "    if random_pos == 'flex':\n",
    "        team['flex'][0] = random.choice(flexs)\n",
    "    if random_pos == 'dst':\n",
    "        team['dst'][0] = random.choice(dsts)\n",
    "        \n",
    "    while True:\n",
    "        flexer = team['flex'][0]\n",
    "        if flexer in team['rb'] or flexer in team['wr'] or flexer in team['te']:\n",
    "            team['flex'] = random.sample(flexs,1)\n",
    "        else:\n",
    "            break\n",
    "    return team"
   ]
  },
  {
   "cell_type": "markdown",
   "metadata": {},
   "source": [
    "### Evolution\n",
    "Evolution is where the action happens in a genetic algorithm. Initially we create a population of entirely random teams. Then, each generation, the strongest teams are bred together, the weakest are discarded, some more random teams are created, and some teams are mutated. "
   ]
  },
  {
   "cell_type": "code",
   "execution_count": 1,
   "metadata": {
    "collapsed": true
   },
   "outputs": [],
   "source": [
    "def evolve(pop, retain=0.35, random_select=0.05, mutate_chance=0.005):\n",
    "    graded = [ (fitness(team), team) for team in pop]\n",
    "    graded = [ x[1] for x in sorted(graded, reverse=True)]\n",
    "    retain_length = int(len(graded)*retain)\n",
    "    parents = graded[:retain_length]\n",
    "\n",
    "    # randomly add other individuals to promote genetic diversity\n",
    "    for individual in graded[retain_length:]:\n",
    "        if random_select > random.random():\n",
    "            parents.append(individual)\n",
    "\n",
    "    # mutate some individuals\n",
    "    for individual in parents:\n",
    "        if mutate_chance > random.random():\n",
    "            individual = mutate(individual)\n",
    "\n",
    "    # crossover parents to create children\n",
    "    parents_length = len(parents)\n",
    "    desired_length = len(pop) - parents_length\n",
    "    children = []\n",
    "    while len(children) < desired_length:\n",
    "        male = random.randint(0, parents_length-1)\n",
    "        female = random.randint(0, parents_length-1)\n",
    "        if male != female:\n",
    "            male = parents[male]\n",
    "            female = parents[female]\n",
    "            babies = breed(male,female)\n",
    "            for baby in babies:\n",
    "                children.append(baby)\n",
    "    parents.extend(children)\n",
    "    return parents"
   ]
  },
  {
   "cell_type": "code",
   "execution_count": 31,
   "metadata": {
    "collapsed": false
   },
   "outputs": [
    {
     "name": "stdout",
     "output_type": "stream",
     "text": [
      "Andy Dalton QB 5700 24.295\n",
      "Le'Veon Bell RB 8500 28.6\n",
      "Devonta Freeman RB 6300 26.7\n",
      "Tavon Austin WR 4300 14.875\n",
      "Travis Benjamin WR 4500 20.2\n",
      "Jeremy Maclin WR 6000 19.9\n",
      "Austin Seferian-Jenkins TE 3600 17.95\n",
      "Rob Gronkowski TE 7500 25.6\n",
      "Broncos  DST 3600 16.0\n",
      "50000\n",
      "194.12\n"
     ]
    }
   ],
   "source": [
    "best_teams=[]\n",
    "history = []\n",
    "p = CreatePopulation(10000)\n",
    "fitness_history = [grade(p)]\n",
    "for i in xrange(40):\n",
    "    p = evolve(p)\n",
    "    fitness_history.append(grade(p))\n",
    "    valid_teams = [ team for team in p if GetTeamSalary(team) <= 50000]\n",
    "    valid_teams = sorted(valid_teams, key=GetTeamPointTotal, reverse=True)\n",
    "    if len(valid_teams) > 0:\n",
    "        best_teams.append(valid_teams[0])\n",
    "for datum in fitness_history:\n",
    "    history.append(datum)\n",
    "\n",
    "best_teams = sorted(best_teams, key=GetTeamSalary, reverse=True)\n",
    "choice = best_teams[0]\n",
    "printTeam(choice)\n",
    "print GetTeamSalary(choice)\n",
    "print GetTeamPointTotal(choice)"
   ]
  },
  {
   "cell_type": "markdown",
   "metadata": {},
   "source": [
    "### Let's take a look.\n",
    "The team generated by our genetic algorithm is expected to produce almost exactly the same number of points as our greedy approach, though slightly less. One key distinction between these two approaches is that the greedy approach will generate the same team everytime you run it, whereas the genetic approach, because of all the randomness involved, will not. To prove it, I've copied the above cell to the cell below, and let's run it again..."
   ]
  },
  {
   "cell_type": "code",
   "execution_count": 32,
   "metadata": {
    "collapsed": false
   },
   "outputs": [
    {
     "name": "stdout",
     "output_type": "stream",
     "text": [
      "Tyrod Taylor QB 5800 21.155\n",
      "Devonta Freeman RB 6300 26.7\n",
      "Le'Veon Bell RB 8500 28.6\n",
      "Travis Benjamin WR 4500 20.2\n",
      "Keenan Allen WR 7200 23.675\n",
      "Marlon Moore WR 3000 0.625\n",
      "Austin Seferian-Jenkins TE 3600 17.95\n",
      "Rob Gronkowski TE 7500 25.6\n",
      "Broncos  DST 3600 16.0\n",
      "50000\n",
      "180.505\n"
     ]
    }
   ],
   "source": [
    "best_teams=[]\n",
    "history = []\n",
    "p = CreatePopulation(10000)\n",
    "fitness_history = [grade(p)]\n",
    "for i in xrange(40):\n",
    "    p = evolve(p)\n",
    "    fitness_history.append(grade(p))\n",
    "    valid_teams = [ team for team in p if GetTeamSalary(team) <= 50000]\n",
    "    valid_teams = sorted(valid_teams, key=GetTeamPointTotal, reverse=True)\n",
    "    if len(valid_teams) > 0:\n",
    "        best_teams.append(valid_teams[0])\n",
    "for datum in fitness_history:\n",
    "    history.append(datum)\n",
    "\n",
    "best_teams = sorted(best_teams, key=GetTeamSalary, reverse=True)\n",
    "choice = best_teams[0]\n",
    "printTeam(choice)\n",
    "print GetTeamSalary(choice)\n",
    "print GetTeamPointTotal(choice)"
   ]
  },
  {
   "cell_type": "markdown",
   "metadata": {},
   "source": [
    "### What happened??\n",
    "As we can see, we did not get the same result, and in fact got a much worse result. Whereas in greedy algorithms we only had to worry about the prioritization, there are many more parameters involved with a genetic algorithm. We can change how many generations we evolve, the size of each population, the fitness function, how teams are bred, how teams are mutated, what percentage of teams are bred and what percentage are thrown away at the end of each generation, and more. Altering these values is called \"tuning the parameters,\" and finding the best values for these parameters is non-trivial."
   ]
  },
  {
   "cell_type": "markdown",
   "metadata": {},
   "source": [
    "### Feedback\n",
    "I welcome any and all feeback on the code, explanations, layout, etc. I can be contacted at [sambrady3@gmail.com](mailto:sambrady3@gmail.com)"
   ]
  }
 ],
 "metadata": {
  "kernelspec": {
   "display_name": "Python 2",
   "language": "python",
   "name": "python2"
  },
  "language_info": {
   "codemirror_mode": {
    "name": "ipython",
    "version": 2
   },
   "file_extension": ".py",
   "mimetype": "text/x-python",
   "name": "python",
   "nbconvert_exporter": "python",
   "pygments_lexer": "ipython2",
   "version": "2.7.9"
  }
 },
 "nbformat": 4,
 "nbformat_minor": 0
}
